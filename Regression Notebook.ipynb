{
 "cells": [
  {
   "cell_type": "markdown",
   "metadata": {},
   "source": [
    "# Regression Assignment\n",
    "In this problem we use the abalone dataset available on Canvas.\n",
    "The dataset is about predicting the age of the abalone from its\n",
    "physical measurements. Use the first 7 variables as predictors\n",
    "and the 8-th as the response. Report all results as the average\n",
    "of 10 random splits with 80% of data for training and 20% for testing."
   ]
  },
  {
   "cell_type": "markdown",
   "metadata": {},
   "source": [
    "#### Import dependencies"
   ]
  },
  {
   "cell_type": "code",
   "execution_count": 1,
   "metadata": {
    "pycharm": {
     "name": "#%%\n"
    }
   },
   "outputs": [],
   "source": [
    "import numpy as np\n",
    "from numpy.linalg import inv\n",
    "from sklearn.model_selection import train_test_split\n",
    "from sklearn.metrics import r2_score\n",
    "from sklearn.tree import DecisionTreeRegressor\n",
    "from sklearn.ensemble import RandomForestRegressor\n",
    "from matplotlib import pyplot as plt"
   ]
  },
  {
   "cell_type": "markdown",
   "metadata": {},
   "source": [
    "#### Load data"
   ]
  },
  {
   "cell_type": "code",
   "execution_count": 2,
   "metadata": {
    "pycharm": {
     "name": "#%%\n"
    }
   },
   "outputs": [],
   "source": [
    "abalone_dataset = np.loadtxt(\"data/abalone.csv\", delimiter=\",\")"
   ]
  },
  {
   "cell_type": "markdown",
   "metadata": {},
   "source": [
    "#### Utility functions"
   ]
  },
  {
   "cell_type": "code",
   "execution_count": 3,
   "metadata": {
    "pycharm": {
     "name": "#%%\n"
    }
   },
   "outputs": [],
   "source": [
    "def get_data():\n",
    "    \"\"\" Get randomly split training and test data\n",
    "\n",
    "    :returns training_x, training_y, test_x, test_y\n",
    "    :rtype tuple(ndarray, ndarray, ndarray, ndarray)\n",
    "    \"\"\"\n",
    "    # split data into x and y\n",
    "    x, y = np.hsplit(abalone_dataset, [7])\n",
    "    # randomly split the data into training and testing\n",
    "    training_x, test_x, training_y, test_y = train_test_split(x, y, train_size=.8)\n",
    "\n",
    "    return training_x, training_y, test_x, test_y\n",
    "\n",
    "def average_ten_runs(func):\n",
    "    \"\"\"This decorator augments your function to run ten times\n",
    "    and return the average result(s)\n",
    "\n",
    "    Example usage\n",
    "    The following function returns the average of ten random numbers:\n",
    "    @average_ten_runs\n",
    "    def random_number():\n",
    "        return random.random()\n",
    "\n",
    "    :parameter func your function\n",
    "    :returns modified version of your function that returns the mean of ten runs\n",
    "    \"\"\"\n",
    "    def wrapper(*args):\n",
    "        # Runs func 10 times, putting each returned value into a separate list\n",
    "        results = zip(*[func(*args) for __ in range(10)])\n",
    "        # finds the average of each list\n",
    "        averaged_results = tuple(sum(value_list)/10 for value_list in results)\n",
    "        return averaged_results\n",
    "    return wrapper\n"
   ]
  },
  {
   "cell_type": "markdown",
   "metadata": {
    "pycharm": {
     "name": "#%% md\n"
    }
   },
   "source": [
    "## OLS Regression\n",
    "OLS regression, analytic, by solving the normal equations, with λ = 0.0001.\n",
    "Report the average training and test R2 (2 points)"
   ]
  },
  {
   "cell_type": "code",
   "execution_count": 4,
   "metadata": {
    "pycharm": {
     "name": "#%%\n"
    }
   },
   "outputs": [
    {
     "name": "stdout",
     "output_type": "stream",
     "text": [
      "Average R2 on training data: 0.5303\n",
      "Average R2 on testing data: 0.4963\n"
     ]
    }
   ],
   "source": [
    "@average_ten_runs\n",
    "def OLS_regression():\n",
    "    \"\"\"Solves OLS regression model analytically\n",
    "\n",
    "    :returns training_R2, testing_R2 r-squared of the model predictions\n",
    "                                     on the training and testing data\n",
    "    \"\"\"\n",
    "    # get data\n",
    "    training_x, training_y, test_x, test_y = get_data()\n",
    "    # add columns of 1s\n",
    "    training_x = np.hstack((np.ones([np.size(training_x, axis=0), 1]), training_x))\n",
    "    test_x = np.hstack((np.ones([np.size(test_x, axis=0), 1]), test_x))\n",
    "\n",
    "    # Solve OLS regression model analytically using the normal equation from the lecture\n",
    "    X = training_x\n",
    "    Y = training_y\n",
    "    lmb = 0.0001\n",
    "    parameters = inv(X.T.dot(X) + lmb * np.eye(np.size(X, axis=1))).dot(X.T).dot(Y)\n",
    "\n",
    "    # predict y values\n",
    "    predicted_training_y = training_x.dot(parameters)\n",
    "    predicted_test_y = test_x.dot(parameters)\n",
    "\n",
    "    # calculate r-squared\n",
    "    training_R2 = r2_score(training_y, predicted_training_y)\n",
    "    testing_R2 = r2_score(test_y, predicted_test_y)\n",
    "\n",
    "    return training_R2, testing_R2\n",
    "\n",
    "print(\"Average R2 on training data: {:.4f}\\n\" \\\n",
    "      \"Average R2 on testing data: {:.4f}\".format(*OLS_regression()))"
   ]
  },
  {
   "cell_type": "markdown",
   "metadata": {
    "pycharm": {
     "name": "#%% md\n"
    }
   },
   "source": [
    "## Regression Tree\n",
    "Regression trees with max depth 7 giving the r2 score for both trainign and test\n",
    "then plotted with R^2 vs tree depth(2 points)."
   ]
  },
  {
   "cell_type": "code",
   "execution_count": 5,
   "metadata": {
    "pycharm": {
     "name": "#%%\n"
    }
   },
   "outputs": [],
   "source": [
    "@average_ten_runs\n",
    "def Reg_Tree(x):\n",
    "\n",
    "    training_x, training_y, test_x, test_y = get_data()\n",
    "\n",
    "    tree=DecisionTreeRegressor(max_depth=x)\n",
    "    tree.fit(training_x, training_y)\n",
    "    predicted_training_y=tree.predict(training_x)\n",
    "    predicted_test_y =tree.predict(test_x)\n",
    "    r2_tree_test=r2_score(predicted_test_y, test_y)\n",
    "    r2_tree_training=r2_score(training_y, predicted_training_y)\n",
    "\n",
    "    return r2_tree_test, r2_tree_training\n",
    "\n",
    "r2_test=[]\n",
    "r2_training=[]\n",
    "depth_trees=[]\n",
    "\n",
    "for x in range(1,8):\n",
    "    test , train = Reg_Tree(x)\n",
    "    depth_trees.append(x)\n",
    "    r2_test.append(test)\n",
    "    r2_training.append(train)"
   ]
  },
  {
   "cell_type": "code",
   "execution_count": 6,
   "metadata": {
    "pycharm": {
     "name": "#%%\n"
    }
   },
   "outputs": [
    {
     "data": {
      "image/png": "[encoded data removed]",
      "text/plain": [
       "<Figure size 432x288 with 1 Axes>"
      ]
     },
     "metadata": {
      "needs_background": "light"
     },
     "output_type": "display_data"
    }
   ],
   "source": [
    "def R2_vs_depth_plot():\n",
    "    x1=depth_trees\n",
    "    x2=depth_trees\n",
    "    y1 = r2_training\n",
    "    y2 = r2_test\n",
    "    plt.xlabel(\"Depth of Trees\")\n",
    "    plt.ylabel(\"R squared\")\n",
    "    plt.plot(x1,y1)\n",
    "    plt.plot(x2,y2)\n",
    "    plt.legend([\"Training\", \"Test\"], loc=\"lower right\")\n",
    "\n",
    "\n",
    "\n",
    "    plt.grid(True, which='both')\n",
    "    plt.show()\n",
    "\n",
    "\n",
    "R2_vs_depth_plot()"
   ]
  },
  {
   "cell_type": "markdown",
   "metadata": {
    "pycharm": {
     "name": "#%% md\n"
    }
   },
   "source": [
    "## Random Forest Regression\n",
    "Random forest regression with 10, 30 and 100 trees. Report the average training and test R2 in each case. (3 points)"
   ]
  },
  {
   "cell_type": "code",
   "execution_count": 7,
   "metadata": {
    "pycharm": {
     "is_executing": true
    }
   },
   "outputs": [
    {
     "name": "stdout",
     "output_type": "stream",
     "text": [
      "Average results over ten runs:\n"
     ]
    },
    {
     "data": {
      "image/png": "[encoded data removed]",
      "text/plain": [
       "<Figure size 432x72 with 1 Axes>"
      ]
     },
     "metadata": {
      "needs_background": "light"
     },
     "output_type": "display_data"
    }
   ],
   "source": [
    "@average_ten_runs\n",
    "def random_forest_regression(num_trees_in_forest):\n",
    "    # get data\n",
    "    training_x, training_y, test_x, test_y = get_data()\n",
    "\n",
    "    # train forest\n",
    "    forest = RandomForestRegressor(n_estimators=num_trees_in_forest)\n",
    "    forest.fit(training_x, np.ravel(training_y))\n",
    "\n",
    "    # predict y values\n",
    "    predicted_training_y = forest.predict(training_x)\n",
    "    predicted_test_y = forest.predict(test_x)\n",
    "\n",
    "    # calculate r-squared\n",
    "    r2_training = r2_score(training_y, predicted_training_y)\n",
    "    r2_test = r2_score(test_y, predicted_test_y)\n",
    "\n",
    "    return r2_training, r2_test\n",
    "\n",
    "# get R2 for 10, 30, and 100 trees, arranging them into a 2D list for the table\n",
    "num_trees = [10, 30, 100]\n",
    "results = [[n, *map(lambda x: f\"{x:.3f}\", random_forest_regression(n))] for n in num_trees]\n",
    "\n",
    "# display table\n",
    "print(\"Average results over ten runs:\")\n",
    "plt.figure(figsize=(6, 1)) # set figure size\n",
    "plt.axis(\"off\")            # turn off plot\n",
    "plt.table(cellText=results, colLabels=[\"Number of trees\", \"Training R2\", \"Testing R2\"], loc=\"upper center\")\n",
    "plt.show()"
   ]
  }
 ],
 "metadata": {
  "authors": [
   {
    "name": "Oscar Kosar-Kosarewicz"
   },
   {
    "name": "Nicholas Phillips"
   }
  ],
  "kernelspec": {
   "display_name": "Python 3",
   "language": "python",
   "name": "python3"
  },
  "language_info": {
   "codemirror_mode": {
    "name": "ipython",
    "version": 3
   },
   "file_extension": ".py",
   "mimetype": "text/x-python",
   "name": "python",
   "nbconvert_exporter": "python",
   "pygments_lexer": "ipython3",
   "version": "3.8.3"
  }
 },
 "nbformat": 4,
 "nbformat_minor": 4
}