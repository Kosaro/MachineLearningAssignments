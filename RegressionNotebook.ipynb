{
 "cells": [
  {
   "cell_type": "markdown",
   "source": [
    "## Regression Assignment\n",
    "Import dependencies"
   ],
   "metadata": {
    "collapsed": false
   }
  },
  {
   "cell_type": "code",
   "execution_count": 19,
   "outputs": [],
   "source": [
    "import numpy as np\n",
    "from sklearn.model_selection import train_test_split"
   ],
   "metadata": {
    "collapsed": false,
    "pycharm": {
     "name": "#%%\n"
    }
   }
  },
  {
   "cell_type": "markdown",
   "source": [
    "Load data"
   ],
   "metadata": {
    "collapsed": false
   }
  },
  {
   "cell_type": "code",
   "execution_count": 20,
   "outputs": [],
   "source": [
    "all_data = np.loadtxt(\"data/abalone.csv\", delimiter=\",\")"
   ],
   "metadata": {
    "collapsed": false,
    "pycharm": {
     "name": "#%%\n"
    }
   }
  },
  {
   "cell_type": "markdown",
   "source": [
    "Utility functions"
   ],
   "metadata": {
    "collapsed": false
   }
  },
  {
   "cell_type": "code",
   "source": [
    "def get_data():\n",
    "    \"\"\" Get randomly split training and test data\n",
    "\n",
    "    :returns training_x, training_y, test_x, test_y\n",
    "    :rtype tuple(ndarray, ndarray, ndarray, ndarray)\n",
    "    \"\"\"\n",
    "    # randomly split the data into training and testing\n",
    "    training, test = train_test_split(all_data, train_size=.8, test_size=.2)\n",
    "\n",
    "    # Separate the predictor (x) and response (y) variables\n",
    "    training_x, training_y = np.hsplit(training, [7])\n",
    "    test_x, test_y = np.hsplit(test, [7])\n",
    "\n",
    "    return training_x, training_y, test_x, test_y\n",
    "\n",
    "def average_ten_runs(func):\n",
    "    \"\"\"This decorator augments your function to run ten times\n",
    "    and return the average result(s)\n",
    "\n",
    "    Example usage\n",
    "    The following function returns the average of ten random numbers:\n",
    "    @average_ten_runs\n",
    "    def random_number():\n",
    "        return random.random()\n",
    "\n",
    "    :parameter func your function\n",
    "    :returns modified version of your function that returns the mean of ten runs\n",
    "    \"\"\"\n",
    "    def wrapper(*args):\n",
    "        # Runs func 10 times, putting each returned value into a separate list\n",
    "        results = zip(*[func(*args) for __ in range(10)])\n",
    "        # finds the average of each list\n",
    "        averaged_results = tuple(sum(value_list)/10 for value_list in results)\n",
    "        return averaged_results\n",
    "    return wrapper\n"
   ],
   "metadata": {
    "collapsed": false,
    "pycharm": {
     "name": "#%%\n"
    }
   },
   "execution_count": 23,
   "outputs": [
    {
     "name": "stdout",
     "output_type": "stream",
     "text": [
      "hi\n",
      "hi\n",
      "hi\n",
      "hi\n",
      "hi\n",
      "hi\n",
      "hi\n",
      "hi\n",
      "hi\n",
      "hi\n"
     ]
    },
    {
     "data": {
      "text/plain": "(12.0, 15.0, 132.0, 123.0, 125.0, 12.0)"
     },
     "execution_count": 23,
     "metadata": {},
     "output_type": "execute_result"
    }
   ]
  },
  {
   "cell_type": "markdown",
   "source": [
    "### OLS Regression\n",
    "OLS regression, analytic, by solving the normal equations, with λ = 0.0001.\n",
    "Report the average training and test R2 (2 points)"
   ],
   "metadata": {
    "collapsed": false,
    "pycharm": {
     "name": "#%% md\n"
    }
   }
  },
  {
   "cell_type": "code",
   "execution_count": null,
   "outputs": [],
   "source": [
    "def OLS_regression():\n",
    "    training_x, training_y, test_x, test_y = get_data()\n",
    "\n"
   ],
   "metadata": {
    "collapsed": false,
    "pycharm": {
     "name": "#%%\n"
    }
   }
  }
 ],
 "metadata": {
  "kernelspec": {
   "display_name": "Python 3",
   "language": "python",
   "name": "python3"
  },
  "language_info": {
   "codemirror_mode": {
    "name": "ipython",
    "version": 3
   },
   "file_extension": ".py",
   "mimetype": "text/x-python",
   "name": "python",
   "nbconvert_exporter": "python",
   "pygments_lexer": "ipython3",
   "version": "3.8.3"
  }
 },
 "nbformat": 4,
 "nbformat_minor": 4
}