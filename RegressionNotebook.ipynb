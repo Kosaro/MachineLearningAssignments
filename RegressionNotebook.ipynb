{
 "cells": [
  {
   "cell_type": "markdown",
   "source": [
    "## Regression Assignment\n",
    "Import dependencies"
   ],
   "metadata": {
    "collapsed": false
   }
  },
  {
   "cell_type": "code",
   "execution_count": 1,
   "outputs": [
    {
     "name": "stdout",
     "output_type": "stream",
     "text": [
      "hello\n"
     ]
    }
   ],
   "source": [
    "import numpy as np\n",
    "from sklearn.model_selection import train_test_split"
   ],
   "metadata": {
    "collapsed": false,
    "pycharm": {
     "name": "#%%\n"
    }
   }
  },
  {
   "cell_type": "markdown",
   "source": [
    "Load data"
   ],
   "metadata": {
    "collapsed": false
   }
  },
  {
   "cell_type": "code",
   "execution_count": 10,
   "outputs": [
    {
     "data": {
      "text/plain": "(4177, 1)"
     },
     "execution_count": 10,
     "metadata": {},
     "output_type": "execute_result"
    }
   ],
   "source": [
    "all_data = np.loadtxt(\"data/abalone.csv\", delimiter=\",\")"
   ],
   "metadata": {
    "collapsed": false,
    "pycharm": {
     "name": "#%%\n"
    }
   }
  },
  {
   "cell_type": "markdown",
   "source": [
    "Utility functions"
   ],
   "metadata": {
    "collapsed": false
   }
  },
  {
   "cell_type": "code",
   "source": [
    "def split_data():\n",
    "    \"\"\" Get randomly split training and test data\n",
    "\n",
    "    :returns training_x, training_y, test_x, test_y\n",
    "    :rtype (ndarray, ndarray, ndarray, ndarray)\n",
    "    \"\"\"\n",
    "    # randomly split the data into training and testing\n",
    "    training, test = train_test_split(all_data, train_size=.8, test_size=.2)\n",
    "\n",
    "    # Separate the predictor (x) and response (y) variables\n",
    "    training_x, training_y = np.hsplit(training, [7])\n",
    "    test_x, test_y = np.hsplit(test, [7])\n",
    "\n",
    "    return training_x, training_y, test_x, test_y\n",
    "\n",
    "def average_R2(func):\n",
    "    \"\"\" Returns the average training and test R2 of ten runs\n",
    "\n",
    "     func must have the following signature:\n",
    "     def my_func(training_x, training_y, test_x, test_y):\n",
    "        return trainingR2, test R2\n",
    "     \"\"\"\n",
    "    # create list of the R2 of ten func calls, each with randomized data\n",
    "    R2_list = [func(split_data()) for __ in range(10)]\n",
    "\n",
    "    # split the training and test R2 into separate lists\n",
    "    training_R2, test_R2 = zip(*R2_list)\n",
    "\n",
    "    # calculate the averages\n",
    "    training_average = sum(training_R2) / 10\n",
    "    test_average = sum(test_R2) / 10\n",
    "\n",
    "    return training_average, test_average"
   ],
   "metadata": {
    "collapsed": false,
    "pycharm": {
     "name": "#%%\n"
    }
   },
   "execution_count": null,
   "outputs": []
  },
  {
   "cell_type": "markdown",
   "source": [
    "### OLS Regression\n",
    "OLS regression, analytic, by solving the normal equations, with λ = 0.0001.\n",
    "Report the average training and test R2 (2 points)"
   ],
   "metadata": {
    "collapsed": false,
    "pycharm": {
     "name": "#%% md\n"
    }
   }
  },
  {
   "cell_type": "code",
   "execution_count": null,
   "outputs": [],
   "source": [],
   "metadata": {
    "collapsed": false,
    "pycharm": {
     "name": "#%%\n"
    }
   }
  }
 ],
 "metadata": {
  "kernelspec": {
   "display_name": "Python 3",
   "language": "python",
   "name": "python3"
  },
  "language_info": {
   "codemirror_mode": {
    "name": "ipython",
    "version": 3
   },
   "file_extension": ".py",
   "mimetype": "text/x-python",
   "name": "python",
   "nbconvert_exporter": "python",
   "pygments_lexer": "ipython3",
   "version": "3.8.3"
  }
 },
 "nbformat": 4,
 "nbformat_minor": 4
}