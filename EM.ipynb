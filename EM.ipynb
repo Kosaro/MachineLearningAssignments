{
 "cells": [
  {
   "cell_type": "markdown",
   "source": [
    "# ME Assignment\n",
    "1. Implement the EM algorithm for clustering with multivariate Gaussian models\n",
    "discussed in the LearningGM section. Initialize the algorithm with the K-means result\n",
    "(for example Matlab provides a kmeans function). Assume there are only two clusters.\n",
    "Report the parameters $\\pi_k$, $\\mu_k$, $\\Sigma_k$, $k = 1, 2$ for the following datasets containing\n",
    "$500-600$ observations from $\\mathbb{R}^2$:\n",
    "\n"
   ],
   "metadata": {
    "collapsed": false
   }
  },
  {
   "cell_type": "markdown",
   "source": [
    "#### Import dependencies"
   ],
   "metadata": {
    "collapsed": false
   }
  },
  {
   "cell_type": "code",
   "execution_count": 36,
   "outputs": [],
   "source": [
    "import numpy as np\n",
    "from matplotlib import pyplot as plt\n",
    "from sklearn.metrics import accuracy_score\n",
    "from sklearn.cluster import KMeans\n",
    "from os.path import join"
   ],
   "metadata": {
    "collapsed": false,
    "pycharm": {
     "name": "#%%\n"
    }
   }
  },
  {
   "cell_type": "markdown",
   "source": [
    "#### Data loading functions"
   ],
   "metadata": {
    "collapsed": false
   }
  },
  {
   "cell_type": "code",
   "execution_count": 37,
   "outputs": [],
   "source": [
    "def get_xeasy():\n",
    "    return load_data(\"xeasy.txt\")\n",
    "\n",
    "def get_x1():\n",
    "    return load_data(\"x1.txt\")\n",
    "\n",
    "def get_x2():\n",
    "    return load_data(\"x2.txt\")\n",
    "\n",
    "def load_data(filename):\n",
    "    path = \"data/EM/\"\n",
    "    data = np.loadtxt(join(path,filename), delimiter=',')\n",
    "    return data\n"
   ],
   "metadata": {
    "collapsed": false,
    "pycharm": {
     "name": "#%%\n"
    }
   }
  },
  {
   "cell_type": "markdown",
   "source": [
    "#### EM Algorithm"
   ],
   "metadata": {
    "collapsed": false,
    "pycharm": {
     "name": "#%% md\n"
    }
   }
  },
  {
   "cell_type": "code",
   "execution_count": 38,
   "outputs": [
    {
     "name": "stdout",
     "output_type": "stream",
     "text": [
      "[1 1 1 0 1 0 1 0 0 0 0 0 1 1 1 0 0 1 0 1 0 0 1 1 0 0 1 1 0 1 0 1 0 0 1 0 1\n",
      " 1 0 0 0 0 0 1 1 0 0 0 1 0 0 1 0 1 0 0 0 0 1 1 1 1 1 1 0 1 0 0 0 0 0 0 1 0\n",
      " 1 1 0 1 0 0 1 1 1 0 0 0 1 0 1 0 1 0 0 0 1 1 0 0 0 0 0 0 0 0 0 0 1 0 0 1 1\n",
      " 0 0 0 0 1 0 0 0 0 1 0 0 0 0 1 0 1 0 0 0 1 1 0 1 0 1 0 0 1 0 1 1 1 0 1 1 0\n",
      " 0 0 0 1 1 0 0 1 0 0 0 0 1 0 0 1 1 0 1 0 0 0 0 0 1 0 0 0 0 0 0 1 1 1 1 0 1\n",
      " 1 0 1 1 0 0 0 0 0 0 0 1 1 0 1 0 1 0 0 1 1 0 0 1 1 0 0 1 1 0 0 0 1 0 0 1 1\n",
      " 1 0 1 1 1 1 1 1 0 0 0 0 0 0 0 0 0 0 0 0 0 0 1 1 1 1 1 1 0 1 1 0 0 1 0 0 0\n",
      " 0 0 0 1 1 0 1 0 1 0 1 0 0 1 0 1 0 0 0 0 0 1 1 1 1 1 1 1 0 0 0 0 0 0 0 0 0\n",
      " 0 1 1 0 0 1 0 0 0 1 0 0 1 0 1 1 0 0 0 0 1 1 1 0 1 0 0 1 0 0 1 1 0 0 0 0 1\n",
      " 0 0 0 0 0 0 1 1 1 0 0 0 1 0 0 0 0 0 1 1 0 1 0 1 1 0 0 0 0 0 1 0 0 1 1 0 0\n",
      " 1 0 1 1 0 0 0 1 1 1 1 1 1 1 0 1 1 1 1 1 0 1 1 0 1 0 0 0 0 0 1 0 0 0 0 1 0\n",
      " 0 1 0 0 1 0 0 0 1 0 0 0 1 1 1 1 1 1 1 0 1 0 0 1 1 0 0 1 0 0 1 0 0 1 0 1 0\n",
      " 1 1 0 0 0 1 0 1 0 0 0 1 0 0 1 1 1 1 1 0 0 0 1 0 0 1 0 0 0 0 1 0 0 0 0 0 0\n",
      " 0 1 0 1 1 1 0 0 1 1 0 0 0 0 0 0 0 1 0]\n",
      "[6.59091241170725, 4.650448889698497]\n"
     ]
    }
   ],
   "source": [
    "def EM(data):\n",
    "    num_clusters = 2   #number of clusters\n",
    "\n",
    "    #use kmeans to initialize cluster centers\n",
    "    kmeans = KMeans(n_clusters=num_clusters)\n",
    "    prediction_labels = np.asarray(kmeans.fit_predict(data))\n",
    "    print(prediction_labels)\n",
    "    cluster_centroid = np.asarray(kmeans.cluster_centers_)\n",
    "    cluster_variances = [np.sum(np.square(data[prediction_labels==k]))/(prediction_labels.size-1)\n",
    "                         for k in range(num_clusters)]\n",
    "    print(cluster_variances)\n",
    "\n",
    "\n",
    "    not_converged = False\n",
    "    while not_converged:\n",
    "        pass\n",
    "        # Expectation step\n",
    "\n",
    "EM(get_xeasy())\n",
    "\n"
   ],
   "metadata": {
    "collapsed": false,
    "pycharm": {
     "name": "#%%\n"
    }
   }
  },
  {
   "cell_type": "markdown",
   "source": [
    "## 1a. xeasy\n"
   ],
   "metadata": {
    "collapsed": false,
    "pycharm": {
     "name": "#%% md\n"
    }
   }
  }
 ],
 "metadata": {
  "authors": [
   {
    "name": "Oscar Kosar-Kosarewicz"
   },
   {
    "name": "Nicholas Phillips"
   }
  ],
  "kernelspec": {
   "display_name": "Python 3",
   "language": "python",
   "name": "python3"
  },
  "language_info": {
   "codemirror_mode": {
    "name": "ipython",
    "version": 3
   },
   "file_extension": ".py",
   "mimetype": "text/x-python",
   "name": "python",
   "nbconvert_exporter": "python",
   "pygments_lexer": "ipython3",
   "version": "3.8.3"
  }
 },
 "nbformat": 4,
 "nbformat_minor": 4
}