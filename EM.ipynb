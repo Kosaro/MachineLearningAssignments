{
 "cells": [
  {
   "cell_type": "markdown",
   "source": [
    "# ME Assignment\n",
    "1. Implement the EM algorithm for clustering with multivariate Gaussian models\n",
    "discussed in the LearningGM section. Initialize the algorithm with the K-means result\n",
    "(for example Matlab provides a kmeans function). Assume there are only two clusters.\n",
    "Report the parameters $\\pi_k$, $\\mu_k$, $\\Sigma_k$, $k = 1, 2$ for the following datasets containing\n",
    "$500-600$ observations from $\\mathbb{R}^2$:\n",
    "\n"
   ],
   "metadata": {
    "collapsed": false
   }
  },
  {
   "cell_type": "markdown",
   "source": [
    "#### Import dependencies"
   ],
   "metadata": {
    "collapsed": false
   }
  },
  {
   "cell_type": "code",
   "execution_count": 109,
   "outputs": [],
   "source": [
    "import numpy as np\n",
    "from matplotlib import pyplot as plt\n",
    "from sklearn.metrics import accuracy_score\n",
    "from sklearn.cluster import KMeans\n",
    "from os.path import join\n",
    "from scipy.stats import multivariate_normal"
   ],
   "metadata": {
    "collapsed": false,
    "pycharm": {
     "name": "#%%\n"
    }
   }
  },
  {
   "cell_type": "markdown",
   "source": [
    "#### Data loading functions"
   ],
   "metadata": {
    "collapsed": false
   }
  },
  {
   "cell_type": "code",
   "execution_count": 110,
   "outputs": [],
   "source": [
    "def get_xeasy():\n",
    "    return load_data(\"xeasy.txt\")\n",
    "\n",
    "def get_x1():\n",
    "    return load_data(\"x1.txt\")\n",
    "\n",
    "def get_x2():\n",
    "    return load_data(\"x2.txt\")\n",
    "\n",
    "def load_data(filename):\n",
    "    path = \"data/EM/\"\n",
    "    data = np.loadtxt(join(path,filename), delimiter=',')\n",
    "    return data\n"
   ],
   "metadata": {
    "collapsed": false,
    "pycharm": {
     "name": "#%%\n"
    }
   }
  },
  {
   "cell_type": "markdown",
   "source": [
    "#### EM Algorithm"
   ],
   "metadata": {
    "collapsed": false,
    "pycharm": {
     "name": "#%% md\n"
    }
   }
  },
  {
   "cell_type": "code",
   "execution_count": 111,
   "outputs": [],
   "source": [
    "def EM(data):\n",
    "    num_clusters = 2   #number of clusters\n",
    "\n",
    "    #use kmeans to initialize cluster centers\n",
    "    kmeans = KMeans(n_clusters=num_clusters)\n",
    "    prediction_labels = np.asarray(kmeans.fit_predict(data))\n",
    "    cluster_centroids = np.asarray(kmeans.cluster_centers_)\n",
    "    cluster_variances = np.asarray([np.sum(np.square(data[prediction_labels==k]))/(prediction_labels.size-1)\n",
    "                         for k in range(num_clusters)])\n",
    "    mixture_proportions = np.asarray([np.sum(prediction_labels==k)/prediction_labels.size for k in range(num_clusters)])\n",
    "\n",
    "    pdf = lambda centroid, variance, proportion: multivariate_normal.pdf(data, centroid, variance)*proportion\n",
    "\n",
    "    converged = False\n",
    "    counter = 0\n",
    "    ll_list = []\n",
    "    while not converged:\n",
    "        counter += 1\n",
    "        if counter == 10000:\n",
    "            print(counter)\n",
    "            break\n",
    "\n",
    "        # expectation step\n",
    "        denominator = np.sum(list(map(pdf, cluster_centroids, cluster_variances, mixture_proportions)),axis=0)\n",
    "        prediction_labels=[pdf(centroid, variance, proportion)/denominator for centroid, variance, proportion in\n",
    "                           zip(cluster_centroids, cluster_variances, mixture_proportions)]\n",
    "        prediction_labels = np.asarray(prediction_labels).T\n",
    "\n",
    "        # maximization step\n",
    "        new_cluster_centroids = np.asarray([np.average(data, weights=prediction_labels[:,k], axis=0) for k in range(num_clusters)])\n",
    "        new_mixture_proportions = np.asarray([np.mean(prediction_labels[:,k]) for k in range(num_clusters)])\n",
    "        new_cluster_variances = np.asarray([np.average(np.sum(np.square(data), axis=1), weights=prediction_labels[:,k])\n",
    "                         for k in range(num_clusters)])\n",
    "\n",
    "        if(np.allclose(new_cluster_centroids, cluster_centroids) and\n",
    "           np.allclose(new_cluster_variances, cluster_variances) and\n",
    "           np.allclose(new_mixture_proportions, mixture_proportions)):\n",
    "            converged = True\n",
    "            print(counter)\n",
    "        cluster_centroids = new_cluster_centroids\n",
    "        cluster_variances = new_cluster_variances\n",
    "        print(cluster_variances)\n",
    "        mixture_proportions = new_mixture_proportions\n",
    "        ll = -np.sum(np.log(np.sum(list(map(pdf, cluster_centroids, cluster_variances, mixture_proportions)),axis=0)))\n",
    "        ll_list.append(ll)\n",
    "\n",
    "    plt.plot(ll_list)\n",
    "    plt.show()\n",
    "    # Print total log likelihood\n",
    "    ll = -np.sum(np.log(np.sum(list(map(pdf, cluster_centroids, cluster_variances, mixture_proportions)),axis=0)))\n",
    "    print(ll)\n",
    "    test = np.log(np.sum(list(map(pdf, cluster_centroids, cluster_variances, mixture_proportions)),axis=0))\n",
    "    print(test.shape)"
   ],
   "metadata": {
    "collapsed": false,
    "pycharm": {
     "name": "#%%\n"
    }
   }
  },
  {
   "cell_type": "markdown",
   "source": [
    "## 1a. xeasy\n"
   ],
   "metadata": {
    "collapsed": false,
    "pycharm": {
     "name": "#%% md\n"
    }
   }
  },
  {
   "cell_type": "code",
   "execution_count": 112,
   "outputs": [
    {
     "name": "stdout",
     "output_type": "stream",
     "text": [
      "[11.36054026 11.12771595]\n",
      "[11.32495912 11.1549841 ]\n",
      "[11.25328582 11.19865603]\n",
      "[11.22785468 11.21364035]\n",
      "[11.22082993 11.21774191]\n",
      "[11.21915803 11.21871587]\n",
      "[11.21883633 11.21890318]\n",
      "[11.21881091 11.21891798]\n",
      "[11.21883294 11.21890515]\n",
      "[11.21885278 11.2188936 ]\n",
      "[11.21886492 11.21888653]\n",
      "[11.21887156 11.21888267]\n",
      "[11.21887502 11.21888065]\n",
      "[11.21887678 11.21887962]\n",
      "[11.21887768 11.2188791 ]\n",
      "[11.21887813 11.21887884]\n",
      "[11.21887835 11.21887871]\n",
      "[11.21887847 11.21887864]\n",
      "19\n",
      "[11.21887852 11.21887861]\n",
      "2276.333126983517\n",
      "(500,)\n"
     ]
    },
    {
     "data": {
      "text/plain": "<Figure size 432x288 with 1 Axes>",
      "image/png": "[encoded data removed]"
     },
     "metadata": {
      "needs_background": "light"
     },
     "output_type": "display_data"
    }
   ],
   "source": [
    "EM(get_xeasy())"
   ],
   "metadata": {
    "collapsed": false,
    "pycharm": {
     "name": "#%%\n"
    }
   }
  },
  {
   "cell_type": "code",
   "execution_count": 113,
   "outputs": [
    {
     "name": "stdout",
     "output_type": "stream",
     "text": [
      "[5.82523108 8.57684216]\n",
      "[6.5261347  8.09592995]\n",
      "[6.91582608 7.72898748]\n",
      "[7.10904239 7.50356513]\n",
      "[7.19935555 7.38603401]\n",
      "[7.24108437 7.32881469]\n",
      "[7.26042879 7.30162854]\n",
      "[7.26944592 7.28880894]\n",
      "[7.27366723 7.2827749 ]\n",
      "[7.27564882 7.27993515]\n",
      "[7.27658047 7.27859842]\n",
      "[7.27701887 7.27796906]\n",
      "[7.27722525 7.2776727 ]\n",
      "[7.27732242 7.27753314]\n",
      "[7.27736818 7.27746742]\n",
      "[7.27738973 7.27743647]\n",
      "17\n",
      "[7.27739988 7.27742189]\n",
      "2502.6825055566987\n",
      "(600,)\n"
     ]
    },
    {
     "data": {
      "text/plain": "<Figure size 432x288 with 1 Axes>",
      "image/png": "[encoded data removed]"
     },
     "metadata": {
      "needs_background": "light"
     },
     "output_type": "display_data"
    }
   ],
   "source": [
    "EM(get_x1())"
   ],
   "metadata": {
    "collapsed": false,
    "pycharm": {
     "name": "#%%\n"
    }
   }
  },
  {
   "cell_type": "code",
   "execution_count": 114,
   "outputs": [
    {
     "name": "stdout",
     "output_type": "stream",
     "text": [
      "[ 9.88723595 10.50976166]\n",
      "[ 9.64644305 10.91406496]\n",
      "[ 9.51942534 11.18499063]\n",
      "[ 9.42099179 11.45688927]\n",
      "[ 9.33524518 11.7674901 ]\n",
      "[ 9.25990159 12.13849417]\n",
      "[ 9.19751008 12.58801868]\n",
      "[ 9.15287726 13.13311769]\n",
      "[ 9.131543   13.78957692]\n",
      "[ 9.1382941  14.57054007]\n",
      "[ 9.1756162  15.48498036]\n",
      "[ 9.24241433 16.53746141]\n",
      "[ 9.33353869 17.73101883]\n",
      "[ 9.44051885 19.07458348]\n",
      "[ 9.55340345 20.59492282]\n",
      "[ 9.66300068 22.35152843]\n",
      "[ 9.76258994 24.4527861 ]\n",
      "[ 9.84854975 27.07294352]\n",
      "[ 9.92000079 30.46714628]\n",
      "[ 9.9779556  34.96509438]\n",
      "[10.02439052 40.8778687 ]\n",
      "[10.06133073 48.20441953]\n",
      "[10.08996138 56.19171716]\n",
      "[10.11044524 63.37749059]\n",
      "[10.12321438 68.58851075]\n",
      "[10.13006099 71.72573094]\n",
      "[10.13332513 73.38529855]\n",
      "[10.13477233 74.19764451]\n",
      "[10.13538952 74.57833886]\n",
      "[10.13564773 74.7524188 ]\n",
      "[10.13575478 74.83085922]\n",
      "[10.13579898 74.8658659 ]\n",
      "[10.13581719 74.8813809 ]\n",
      "[10.13582469 74.88822014]\n",
      "[10.13582778 74.8912216 ]\n",
      "[10.13582905 74.89253381]\n",
      "[10.13582957 74.8931056 ]\n",
      "38\n",
      "[10.13582978 74.89335402]\n",
      "2791.89613542657\n",
      "(600,)\n"
     ]
    },
    {
     "data": {
      "text/plain": "<Figure size 432x288 with 1 Axes>",
      "image/png": "[encoded data removed]"
     },
     "metadata": {
      "needs_background": "light"
     },
     "output_type": "display_data"
    }
   ],
   "source": [
    "EM(get_x2())\n"
   ],
   "metadata": {
    "collapsed": false,
    "pycharm": {
     "name": "#%%\n"
    }
   }
  }
 ],
 "metadata": {
  "authors": [
   {
    "name": "Oscar Kosar-Kosarewicz"
   },
   {
    "name": "Nicholas Phillips"
   }
  ],
  "kernelspec": {
   "display_name": "Python 3",
   "language": "python",
   "name": "python3"
  },
  "language_info": {
   "codemirror_mode": {
    "name": "ipython",
    "version": 3
   },
   "file_extension": ".py",
   "mimetype": "text/x-python",
   "name": "python",
   "nbconvert_exporter": "python",
   "pygments_lexer": "ipython3",
   "version": "3.8.3"
  }
 },
 "nbformat": 4,
 "nbformat_minor": 4
}