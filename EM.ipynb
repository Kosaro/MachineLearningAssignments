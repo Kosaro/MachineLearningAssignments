{
 "cells": [
  {
   "cell_type": "markdown",
   "source": [
    "# ME Assignment\n",
    "1. Implement the EM algorithm for clustering with multivariate Gaussian models\n",
    "discussed in the LearningGM section. Initialize the algorithm with the K-means result\n",
    "(for example Matlab provides a kmeans function). Assume there are only two clusters.\n",
    "Report the parameters $\\pi_k$, $\\mu_k$, $\\Sigma_k$, $k = 1, 2$ for the following datasets containing\n",
    "$500-600$ observations from $\\mathbb{R}^2$:\n",
    "\n"
   ],
   "metadata": {
    "collapsed": false
   }
  },
  {
   "cell_type": "markdown",
   "source": [
    "#### Import dependencies"
   ],
   "metadata": {
    "collapsed": false
   }
  },
  {
   "cell_type": "code",
   "execution_count": 7,
   "outputs": [],
   "source": [
    "import numpy as np\n",
    "from matplotlib import pyplot as plt\n",
    "from sklearn.metrics import accuracy_score\n",
    "from sklearn.cluster import KMeans\n",
    "from os.path import join"
   ],
   "metadata": {
    "collapsed": false,
    "pycharm": {
     "name": "#%%\n"
    }
   }
  },
  {
   "cell_type": "markdown",
   "source": [
    "#### Data loading functions"
   ],
   "metadata": {
    "collapsed": false
   }
  },
  {
   "cell_type": "code",
   "execution_count": 8,
   "outputs": [],
   "source": [
    "def get_xeasy():\n",
    "    return load_data(\"xeasy.txt\")\n",
    "\n",
    "def get_x1():\n",
    "    return load_data(\"x1.txt\")\n",
    "\n",
    "def get_x2():\n",
    "    return load_data(\"x2.txt\")\n",
    "\n",
    "def load_data(filename):\n",
    "    path = \"data/EM/\"\n",
    "    data = np.loadtxt(join(path,filename), delimiter=',')\n",
    "    return data\n"
   ],
   "metadata": {
    "collapsed": false,
    "pycharm": {
     "name": "#%%\n"
    }
   }
  },
  {
   "cell_type": "markdown",
   "source": [
    "#### EM Algorithm"
   ],
   "metadata": {
    "collapsed": false,
    "pycharm": {
     "name": "#%% md\n"
    }
   }
  },
  {
   "cell_type": "code",
   "execution_count": 11,
   "outputs": [
    {
     "name": "stdout",
     "output_type": "stream",
     "text": [
      "[[ 3.01674223 -0.1724    ]\n",
      " [ 0.010641    3.08635438]]\n"
     ]
    }
   ],
   "source": [
    "def EM(data):\n",
    "    k = 2   #number of clusters\n",
    "\n",
    "    #use kmeans to initialize cluster centers\n",
    "    kmeans = KMeans(n_clusters=k)\n",
    "    kmeans.fit(data)\n",
    "    cluster_centroid = np.asarray(kmeans.cluster_centers)\n",
    "    cluster_variance =\n",
    "\n",
    "\n",
    "    not_converged = True\n",
    "    while not_converged:\n",
    "        # Expectation step\n",
    "\n",
    "EM(get_xeasy())\n",
    "\n"
   ],
   "metadata": {
    "collapsed": false,
    "pycharm": {
     "name": "#%%\n"
    }
   }
  },
  {
   "cell_type": "markdown",
   "source": [
    "## 1a. xeasy\n"
   ],
   "metadata": {
    "collapsed": false,
    "pycharm": {
     "name": "#%% md\n"
    }
   }
  }
 ],
 "metadata": {
  "authors": [
   {
    "name": "Oscar Kosar-Kosarewicz"
   },
   {
    "name": "Nicholas Phillips"
   }
  ],
  "kernelspec": {
   "display_name": "Python 3",
   "language": "python",
   "name": "python3"
  },
  "language_info": {
   "codemirror_mode": {
    "name": "ipython",
    "version": 3
   },
   "file_extension": ".py",
   "mimetype": "text/x-python",
   "name": "python",
   "nbconvert_exporter": "python",
   "pygments_lexer": "ipython3",
   "version": "3.8.3"
  }
 },
 "nbformat": 4,
 "nbformat_minor": 4
}