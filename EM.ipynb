{
 "cells": [
  {
   "cell_type": "markdown",
   "source": [
    "# ME Assignment\n",
    "1. Implement the EM algorithm for clustering with multivariate Gaussian models\n",
    "discussed in the LearningGM section. Initialize the algorithm with the K-means result\n",
    "(for example Matlab provides a kmeans function). Assume there are only two clusters.\n",
    "Report the parameters $\\pi_k$, $\\mu_k$, $\\Sigma_k$, $k = 1, 2$ for the following datasets containing\n",
    "$500-600$ observations from $\\mathbb{R}^2$:\n",
    "\n"
   ],
   "metadata": {
    "collapsed": false
   }
  },
  {
   "cell_type": "markdown",
   "source": [
    "#### Import dependencies"
   ],
   "metadata": {
    "collapsed": false
   }
  },
  {
   "cell_type": "code",
   "execution_count": 61,
   "outputs": [],
   "source": [
    "import numpy as np\n",
    "from matplotlib import pyplot as plt\n",
    "from sklearn.metrics import accuracy_score\n",
    "from sklearn.cluster import KMeans\n",
    "from os.path import join\n",
    "from scipy.stats import multivariate_normal"
   ],
   "metadata": {
    "collapsed": false,
    "pycharm": {
     "name": "#%%\n"
    }
   }
  },
  {
   "cell_type": "markdown",
   "source": [
    "#### Data loading functions"
   ],
   "metadata": {
    "collapsed": false
   }
  },
  {
   "cell_type": "code",
   "execution_count": 62,
   "outputs": [],
   "source": [
    "def get_xeasy():\n",
    "    return load_data(\"xeasy.txt\")\n",
    "\n",
    "def get_x1():\n",
    "    return load_data(\"x1.txt\")\n",
    "\n",
    "def get_x2():\n",
    "    return load_data(\"x2.txt\")\n",
    "\n",
    "def load_data(filename):\n",
    "    path = \"data/EM/\"\n",
    "    data = np.loadtxt(join(path,filename), delimiter=',')\n",
    "    return data\n"
   ],
   "metadata": {
    "collapsed": false,
    "pycharm": {
     "name": "#%%\n"
    }
   }
  },
  {
   "cell_type": "markdown",
   "source": [
    "#### EM Algorithm"
   ],
   "metadata": {
    "collapsed": false,
    "pycharm": {
     "name": "#%% md\n"
    }
   }
  },
  {
   "cell_type": "code",
   "execution_count": 63,
   "outputs": [],
   "source": [
    "def EM(data):\n",
    "    num_clusters = 2   #number of clusters\n",
    "\n",
    "    #use kmeans to initialize cluster centers\n",
    "    kmeans = KMeans(n_clusters=num_clusters)\n",
    "    prediction_labels = np.asarray(kmeans.fit_predict(data))\n",
    "    cluster_centroids = np.asarray(kmeans.cluster_centers_)\n",
    "    cluster_variances = np.asarray([np.sum(np.square(data[prediction_labels==k]))/(prediction_labels.size-1)\n",
    "                         for k in range(num_clusters)])\n",
    "    mixture_proportions = np.asarray([np.sum(prediction_labels==k)/prediction_labels.size for k in range(num_clusters)])\n",
    "\n",
    "    pdf = lambda centroid, variance, proportion: multivariate_normal.pdf(data, centroid, variance)*proportion\n",
    "\n",
    "    converged = False\n",
    "    counter = 0\n",
    "    while not converged:\n",
    "        counter += 1\n",
    "        if counter == 10000:\n",
    "            print(counter)\n",
    "            break\n",
    "\n",
    "        # expectation step\n",
    "        denominator = np.sum(list(map(pdf, cluster_centroids, cluster_variances, mixture_proportions)),axis=0)\n",
    "        prediction_labels=[pdf(centroid, variance, proportion)/denominator for centroid, variance, proportion in\n",
    "                           zip(cluster_centroids, cluster_variances, mixture_proportions)]\n",
    "        prediction_labels = np.asarray(prediction_labels).T\n",
    "\n",
    "        # maximization step\n",
    "        new_cluster_centroids = np.asarray([np.average(data, weights=prediction_labels[:,k], axis=0) for k in range(num_clusters)])\n",
    "        new_mixture_proportions = np.asarray([np.mean(prediction_labels[:,k]) for k in range(num_clusters)])\n",
    "        new_cluster_variances = np.asarray([np.average(np.sum(np.square(data), axis=1), weights=prediction_labels[:,k])\n",
    "                         for k in range(num_clusters)])\n",
    "\n",
    "        if(np.allclose(new_cluster_centroids, cluster_centroids, atol=1e-5) and\n",
    "            np.allclose(new_cluster_variances, cluster_variances, atol=1e-5) and\n",
    "            np.allclose(new_mixture_proportions, mixture_proportions, atol=1e-5)):\n",
    "            converged = True\n",
    "            print(counter)\n",
    "        cluster_centroids = new_cluster_centroids\n",
    "        cluster_variances = new_cluster_variances\n",
    "        mixture_proportions = new_mixture_proportions\n",
    "\n",
    "\n",
    "\n",
    "\n",
    "\n"
   ],
   "metadata": {
    "collapsed": false,
    "pycharm": {
     "name": "#%%\n"
    }
   }
  },
  {
   "cell_type": "markdown",
   "source": [
    "## 1a. xeasy\n"
   ],
   "metadata": {
    "collapsed": false,
    "pycharm": {
     "name": "#%% md\n"
    }
   }
  },
  {
   "cell_type": "code",
   "execution_count": 64,
   "outputs": [
    {
     "name": "stdout",
     "output_type": "stream",
     "text": [
      "18\n"
     ]
    }
   ],
   "source": [
    "EM(get_xeasy())"
   ],
   "metadata": {
    "collapsed": false,
    "pycharm": {
     "name": "#%%\n"
    }
   }
  },
  {
   "cell_type": "code",
   "execution_count": 65,
   "outputs": [
    {
     "name": "stdout",
     "output_type": "stream",
     "text": [
      "16\n"
     ]
    }
   ],
   "source": [
    "EM(get_x1())"
   ],
   "metadata": {
    "collapsed": false,
    "pycharm": {
     "name": "#%%\n"
    }
   }
  },
  {
   "cell_type": "code",
   "execution_count": 66,
   "outputs": [
    {
     "name": "stdout",
     "output_type": "stream",
     "text": [
      "37\n"
     ]
    }
   ],
   "source": [
    "EM(get_x2())\n"
   ],
   "metadata": {
    "collapsed": false,
    "pycharm": {
     "name": "#%%\n"
    }
   }
  }
 ],
 "metadata": {
  "authors": [
   {
    "name": "Oscar Kosar-Kosarewicz"
   },
   {
    "name": "Nicholas Phillips"
   }
  ],
  "kernelspec": {
   "display_name": "Python 3",
   "language": "python",
   "name": "python3"
  },
  "language_info": {
   "codemirror_mode": {
    "name": "ipython",
    "version": 3
   },
   "file_extension": ".py",
   "mimetype": "text/x-python",
   "name": "python",
   "nbconvert_exporter": "python",
   "pygments_lexer": "ipython3",
   "version": "3.8.3"
  }
 },
 "nbformat": 4,
 "nbformat_minor": 4
}