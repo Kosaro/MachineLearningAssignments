{
 "cells": [
  {
   "cell_type": "markdown",
   "source": [
    "# Convulational Neural Network Assignment\n",
    "The goal of this project is to train a regression CNN to predict the resolution. We\n",
    "will use the square loss functions on the training examples $(\\mathbf{x}_i, y_i),i=1, \\dots,n$:\n",
    "\n",
    "$$S(\\mathbf{w})=\\frac{1}{n}\\Sigma_{i=1}^n(y_i-f_\\mathbf{w}(\\mathbf{x}_i))^2 + \\lambda ||\\mathbf{w}||^2$$\n",
    "\n",
    "Besides the loss function, we will measure the $R^2$\n",
    "\n",
    "$R^2=1-\\frac{\\Sigma_{i=1}^n(y_i-\\hat{y}_i)^2}{\\Sigma_{i=1}^n(y_i-\\bar{y}_i)^2}$\n",
    "\n",
    "where $\\hat{y}=f_\\mathbf{w}(\\mathbf{x}_i)$ and $\\bar{y}=\\frac{1}{n}\\Sigma_{i=1}^n y_i$.\n",
    "\n",
    "Experiment with different CNN architectures to obtain a good result. One example of a CNN you could use contains five convolutional layers with stride $1$ and zero\n",
    "padding, the first four with filters of size $5 \\times 5$ with or without holes (atrous), and the\n",
    "last of the appropriate size to obtain a $1 \\times 1$ output. The first two convolutions have\n",
    "$16$ filters, the next two have $32$ filters, and the last has one filter. The first three convolutions are followed by $2 \\times 2$ max pooling with stride $2$ respectively. The fourth\n",
    "convolution layer is followed by ReLU.\n"
   ],
   "metadata": {
    "collapsed": false
   }
  },
  {
   "cell_type": "markdown",
   "source": [
    "#### Import dependencies"
   ],
   "metadata": {
    "collapsed": false
   }
  },
  {
   "cell_type": "code",
   "execution_count": 4,
   "outputs": [],
   "source": [
    "import numpy as np\n",
    "import pandas as pd\n",
    "from matplotlib import pyplot as plt\n",
    "from sklearn.metrics import accuracy_score\n",
    "from scipy.special import expit\n",
    "from keras.preprocessing.image import ImageDataGenerator\n",
    "import os"
   ],
   "metadata": {
    "collapsed": false,
    "pycharm": {
     "name": "#%%\n"
    }
   }
  },
  {
   "cell_type": "markdown",
   "source": [
    "#### Data loading function"
   ],
   "metadata": {
    "collapsed": false
   }
  },
  {
   "cell_type": "code",
   "execution_count": 5,
   "outputs": [],
   "source": [
    "def get_data():\n",
    "    data_path = 'data/cnn'\n",
    "    train_path = os.path.join(data_path,'cnntrain')\n",
    "    test_path = os.path.join(data_path,'cnntest')\n",
    "\n",
    "    data_gen = ImageDataGenerator()\n",
    "\n",
    "    train_dataframe = pd.DataFrame(\n",
    "        zip([os.path.join(train_path, image) for image in os.listdir(test_path)],\n",
    "            [int(filename[:2])/100 for filename in os.listdir(test_path)]),\n",
    "        columns=['path', 'resolution'])\n",
    "\n",
    "    test_dataframe = pd.DataFrame(\n",
    "        zip([os.path.join(test_path, image) for image in os.listdir(test_path)],\n",
    "            [int(filename[:2])/100 for filename in os.listdir(test_path)]),\n",
    "        columns=['path', 'resolution'])\n",
    "\n",
    "    train_data = data_gen.flow_from_dataframe(train_dataframe,\n",
    "        x_col='path', y_col='resolution', class_mode='raw', target_size=(64,64))\n",
    "    test_data = data_gen.flow_from_dataframe(test_dataframe,\n",
    "        x_col='path', y_col='resolution', class_mode='raw', target_size=(64,64))\n",
    "    print(train_dataframe)\n",
    "    print(test_dataframe)\n",
    "    return train_data, test_data"
   ],
   "metadata": {
    "collapsed": false,
    "pycharm": {
     "name": "#%%\n"
    }
   }
  },
  {
   "cell_type": "code",
   "execution_count": 6,
   "outputs": [
    {
     "name": "stdout",
     "output_type": "stream",
     "text": [
      "Found 0 validated image filenames.\n",
      "Found 2261 validated image filenames.\n",
      "                                        path  resolution\n",
      "0     data/cnn\\cnntrain\\02_136201.jpg_01.jpg        0.02\n",
      "1     data/cnn\\cnntrain\\02_136201.jpg_02.jpg        0.02\n",
      "2     data/cnn\\cnntrain\\02_136201.jpg_03.jpg        0.02\n",
      "3     data/cnn\\cnntrain\\02_136201.jpg_04.jpg        0.02\n",
      "4     data/cnn\\cnntrain\\02_136201.jpg_05.jpg        0.02\n",
      "...                                      ...         ...\n",
      "2256  data/cnn\\cnntrain\\96_133900.jpg_46.jpg        0.96\n",
      "2257  data/cnn\\cnntrain\\96_133900.jpg_47.jpg        0.96\n",
      "2258  data/cnn\\cnntrain\\96_133900.jpg_48.jpg        0.96\n",
      "2259  data/cnn\\cnntrain\\96_133900.jpg_49.jpg        0.96\n",
      "2260  data/cnn\\cnntrain\\96_133900.jpg_50.jpg        0.96\n",
      "\n",
      "[2261 rows x 2 columns]\n",
      "                                       path  resolution\n",
      "0     data/cnn\\cnntest\\02_136201.jpg_01.jpg        0.02\n",
      "1     data/cnn\\cnntest\\02_136201.jpg_02.jpg        0.02\n",
      "2     data/cnn\\cnntest\\02_136201.jpg_03.jpg        0.02\n",
      "3     data/cnn\\cnntest\\02_136201.jpg_04.jpg        0.02\n",
      "4     data/cnn\\cnntest\\02_136201.jpg_05.jpg        0.02\n",
      "...                                     ...         ...\n",
      "2256  data/cnn\\cnntest\\96_133900.jpg_46.jpg        0.96\n",
      "2257  data/cnn\\cnntest\\96_133900.jpg_47.jpg        0.96\n",
      "2258  data/cnn\\cnntest\\96_133900.jpg_48.jpg        0.96\n",
      "2259  data/cnn\\cnntest\\96_133900.jpg_49.jpg        0.96\n",
      "2260  data/cnn\\cnntest\\96_133900.jpg_50.jpg        0.96\n",
      "\n",
      "[2261 rows x 2 columns]\n",
      "<keras.preprocessing.image.DataFrameIterator object at 0x000002E84EE7F048>\n",
      "<keras.preprocessing.image.DataFrameIterator object at 0x000002E84E4A1488>\n"
     ]
    },
    {
     "name": "stderr",
     "output_type": "stream",
     "text": [
      "C:\\Users\\Oscar\\anaconda3\\envs\\tensor_environemnt\\lib\\site-packages\\keras_preprocessing\\image\\dataframe_iterator.py:273: UserWarning: Found 2261 invalid image filename(s) in x_col=\"path\". These filename(s) will be ignored.\n",
      "  .format(n_invalid, x_col)\n"
     ]
    }
   ],
   "source": [
    "for i in get_data():\n",
    "    print(i)"
   ],
   "metadata": {
    "collapsed": false,
    "pycharm": {
     "name": "#%%\n"
    }
   }
  },
  {
   "cell_type": "markdown",
   "source": [
    "#### Loss function"
   ],
   "metadata": {
    "collapsed": false
   }
  },
  {
   "cell_type": "code",
   "execution_count": null,
   "outputs": [],
   "source": [
    "def loss(x, y, w, f_w, lmda):\n",
    "    return np.mean(y - f_w(x) + lmda*np.linalg.norm(w)**2)"
   ],
   "metadata": {
    "collapsed": false,
    "pycharm": {
     "name": "#%%\n"
    }
   }
  },
  {
   "cell_type": "markdown",
   "source": [
    "#### $R^2$ function"
   ],
   "metadata": {
    "collapsed": false
   }
  },
  {
   "cell_type": "code",
   "execution_count": null,
   "outputs": [],
   "source": [
    "def R2(y_true, y_predicted):\n",
    "    return 1 - np.sum((y_true-y_predicted)**2) / np.sum((y_true-np.mean(y_true))**2)"
   ],
   "metadata": {
    "collapsed": false,
    "pycharm": {
     "name": "#%%\n"
    }
   }
  }
 ],
 "metadata": {
  "authors": [
   {
    "name": "Oscar Kosar-Kosarewicz"
   },
   {
    "name": "Nicholas Phillips"
   }
  ],
  "kernelspec": {
   "name": "python3",
   "language": "python",
   "display_name": "Python 3"
  },
  "language_info": {
   "codemirror_mode": {
    "name": "ipython",
    "version": 3
   },
   "file_extension": ".py",
   "mimetype": "text/x-python",
   "name": "python",
   "nbconvert_exporter": "python",
   "pygments_lexer": "ipython3",
   "version": "3.8.3"
  }
 },
 "nbformat": 4,
 "nbformat_minor": 4
}