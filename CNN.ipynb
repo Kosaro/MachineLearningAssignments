{
 "cells": [
  {
   "cell_type": "markdown",
   "source": [
    "# Convulational Neural Network Assignment\n",
    "The goal of this project is to train a regression CNN to predict the resolution. We\n",
    "will use the square loss functions on the training examples $(\\mathbf{x}_i, y_i),i=1, \\dots,n$:\n",
    "\n",
    "$$S(\\mathbf{w})=\\frac{1}{n}\\Sigma_{i=1}^n(y_i-f_\\mathbf{w}(\\mathbf{x}_i))^2 + \\lambda ||\\mathbf{w}||^2$$\n",
    "\n",
    "Besides the loss function, we will measure the $R^2$\n",
    "\n",
    "$R^2=1-\\frac{\\Sigma_{i=1}^n(y_i-\\hat{y}_i)^2}{\\Sigma_{i=1}^n(y_i-\\bar{y}_i)^2}$\n",
    "\n",
    "where $\\hat{y}=f_\\mathbf{w}(\\mathbf{x}_i)$ and $\\bar{y}=\\frac{1}{n}\\Sigma_{i=1}^n y_i$.\n",
    "\n",
    "Experiment with different CNN architectures to obtain a good result. One example of a CNN you could use contains five convolutional layers with stride $1$ and zero\n",
    "padding, the first four with filters of size $5 \\times 5$ with or without holes (atrous), and the\n",
    "last of the appropriate size to obtain a $1 \\times 1$ output. The first two convolutions have\n",
    "$16$ filters, the next two have $32$ filters, and the last has one filter. The first three convolutions are followed by $2 \\times 2$ max pooling with stride $2$ respectively. The fourth\n",
    "convolution layer is followed by ReLU.\n"
   ],
   "metadata": {
    "collapsed": false
   }
  },
  {
   "cell_type": "markdown",
   "source": [
    "#### Import dependencies"
   ],
   "metadata": {
    "collapsed": false
   }
  },
  {
   "cell_type": "code",
   "execution_count": null,
   "outputs": [],
   "source": [
    "import numpy as np\n",
    "from matplotlib import pyplot as plt\n",
    "from sklearn.metrics import accuracy_score\n",
    "from scipy.special import expit"
   ],
   "metadata": {
    "collapsed": false,
    "pycharm": {
     "name": "#%%\n"
    }
   }
  },
  {
   "cell_type": "markdown",
   "source": [
    "#### Data loading function\n"
   ],
   "metadata": {
    "collapsed": false
   }
  }
 ],
 "metadata": {
  "authors": [
   {
    "name": "Oscar Kosar-Kosarewicz"
   },
   {
    "name": "Nicholas Phillips"
   }
  ],
  "kernelspec": {
   "display_name": "Python 3",
   "language": "python",
   "name": "python3"
  },
  "language_info": {
   "codemirror_mode": {
    "name": "ipython",
    "version": 3
   },
   "file_extension": ".py",
   "mimetype": "text/x-python",
   "name": "python",
   "nbconvert_exporter": "python",
   "pygments_lexer": "ipython3",
   "version": "3.8.3"
  },
  "pycharm": {
   "stem_cell": {
    "cell_type": "raw",
    "source": [],
    "metadata": {
     "collapsed": false
    }
   }
  }
 },
 "nbformat": 4,
 "nbformat_minor": 4
}