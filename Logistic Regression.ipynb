{
 "cells": [
  {
   "cell_type": "markdown",
   "metadata": {
    "pycharm": {
     "name": "#%% md\n"
    }
   },
   "source": [
    "# Logistic Regression Assignment\n",
    "Implement the Logistic Regression learning by gradient ascent as described in class.\n",
    "Before using logistic regression, be sure to normalize the variables of the training set\n",
    "to have zero mean and standard deviation 1, and to do the exact same transformation to\n",
    "the test set, using the mean and standard deviation of the training set"
   ]
  },
  {
   "cell_type": "markdown",
   "source": [
    "#### Import dependencies"
   ],
   "metadata": {
    "collapsed": false
   }
  },
  {
   "cell_type": "code",
   "execution_count": 1,
   "outputs": [],
   "source": [
    "import numpy as np\n",
    "from scipy.sparse import csr_matrix\n",
    "import pandas as pd"
   ],
   "metadata": {
    "collapsed": false,
    "pycharm": {
     "name": "#%%\n"
    }
   }
  },
  {
   "cell_type": "markdown",
   "source": [
    "#### Load data"
   ],
   "metadata": {
    "collapsed": false
   }
  },
  {
   "cell_type": "code",
   "execution_count": 2,
   "outputs": [],
   "source": [
    "# TODO"
   ],
   "metadata": {
    "collapsed": false,
    "pycharm": {
     "name": "#%%\n"
    }
   }
  },
  {
   "cell_type": "markdown",
   "source": [
    "#### Utility functions"
   ],
   "metadata": {
    "collapsed": false
   }
  },
  {
   "cell_type": "code",
   "execution_count": 3,
   "outputs": [],
   "source": [
    "def get_gisette():\n",
    "    path = \"data/gisette/\"   \n",
    "    \n",
    "    train_x = np.loadtxt(path+\"gisette_train.data\")\n",
    "    train_y = np.loadtxt(path+\"gisette_train.labels\")\n",
    "    \n",
    "    valid_x = np.loadtxt(path+\"gisette_valid.data\")\n",
    "    valid_y = np.loadtxt(path+\"gisette_valid.labels\")\n",
    "    \n",
    "    test_x = np.loadtxt(path+\"gisette_test.data\")\n",
    "\n",
    "    return train_x, train_y, valid_x, valid_y, test_x\n",
    "\n",
    "\n",
    "def get_hill_valley():\n",
    "    path = \"data/hill-valley/\"   \n",
    "    \n",
    "    train_x = np.loadtxt(path+\"X.dat\")\n",
    "    train_y = np.loadtxt(path+\"Y.dat\")\n",
    "    \n",
    "    test_x = np.loadtxt(path+\"Xtest.dat\")\n",
    "    test_y = np.loadtxt(path+\"Ytest.dat\")\n",
    "    \n",
    "    return train_x, train_y, test_x, test_y\n",
    "\n",
    "\n",
    "def get_dexter():\n",
    "    path = \"data/dexter/\"   \n",
    "    \n",
    "    def parse_X(file_path):\n",
    "        def gen():\n",
    "            with open(file_path) as f:\n",
    "                for line in f:\n",
    "                    dict = {}\n",
    "                    for pair in line.split(\" \"):\n",
    "                        if \":\" in pair:\n",
    "                            key, value = pair.split(\":\")\n",
    "                            dict[key] = value\n",
    "                    yield dict\n",
    "        df = pd.DataFrame(gen())\n",
    "        df.fillna(0, inplace=True)\n",
    "        return csr_matrix(df.values.astype(\"int\"))\n",
    "    \n",
    "    train_x = parse_X(path+\"dexter_train.data\")\n",
    "    train_y = np.loadtxt(path+\"dexter_train.labels\")\n",
    "    \n",
    "    valid_x = parse_X(path+\"dexter_valid.data\")\n",
    "    valid_y = np.loadtxt(path+\"dexter_valid.labels\")\n",
    "    \n",
    "    test_x = parse_X(path+\"dexter_test.data\")\n",
    "    \n",
    "    return train_x, train_y, valid_x, valid_y, test_x"
   ],
   "metadata": {
    "collapsed": false,
    "pycharm": {
     "name": "#%%\n"
    }
   }
  },
  {
   "cell_type": "code",
   "execution_count": 7,
   "outputs": [],
   "source": [
    "def Normalize(x):\n",
    "    mean = np.average(x)\n",
    "    standard_deviation=np.std(x)\n",
    "\n",
    "    norm=(x-mean)/standard_deviation\n",
    "\n",
    "    return norm\n",
    "\n",
    "\n",
    "\n",
    "\n",
    "\n",
    "\n",
    "\n"
   ],
   "metadata": {
    "collapsed": false,
    "pycharm": {
     "name": "#%%\n"
    }
   }
  }
 ],
 "metadata": {
  "authors": [
   {
    "name": "Oscar Kosar-Kosarewicz"
   },
   {
    "name": "Nicholas Phillips"
   }
  ],
  "kernelspec": {
   "display_name": "Python 3",
   "language": "python",
   "name": "python3"
  },
  "language_info": {
   "codemirror_mode": {
    "name": "ipython",
    "version": 3
   },
   "file_extension": ".py",
   "mimetype": "text/x-python",
   "name": "python",
   "nbconvert_exporter": "python",
   "pygments_lexer": "ipython3",
   "version": "3.8.3"
  }
 },
 "nbformat": 4,
 "nbformat_minor": 4
}