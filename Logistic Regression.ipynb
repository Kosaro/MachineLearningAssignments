{
 "cells": [
  {
   "cell_type": "markdown",
   "metadata": {
    "pycharm": {
     "name": "#%% md\n"
    }
   },
   "source": [
    "# Logistic Regression Assignment\n",
    "Implement the Logistic Regression learning by gradient ascent as described in class.\n",
    "Before using logistic regression, be sure to normalize the variables of the training set\n",
    "to have zero mean and standard deviation 1, and to do the exact same transformation to\n",
    "the test set, using the mean and standard deviation of the training set"
   ]
  },
  {
   "cell_type": "markdown",
   "metadata": {},
   "source": [
    "#### Import dependencies"
   ]
  },
  {
   "cell_type": "code",
   "execution_count": 1,
   "metadata": {
    "pycharm": {
     "name": "#%%\n"
    }
   },
   "outputs": [],
   "source": [
    "import numpy as np\n",
    "from sklearn.metrics import accuracy_score\n",
    "from sklearn.metrics import log_loss\n",
    "from matplotlib import pyplot as plt"
   ]
  },
  {
   "cell_type": "markdown",
   "metadata": {},
   "source": [
    "#### Data loading functions"
   ]
  },
  {
   "cell_type": "code",
   "execution_count": 2,
   "metadata": {
    "pycharm": {
     "name": "#%%\n"
    }
   },
   "outputs": [],
   "source": [
    "def get_gisette():\n",
    "    path = \"data/gisette/\"   \n",
    "    \n",
    "    train_x = np.loadtxt(path+\"gisette_train.data\")\n",
    "    train_y = np.loadtxt(path+\"gisette_train.labels\")\n",
    "    \n",
    "    valid_x = np.loadtxt(path+\"gisette_valid.data\")\n",
    "    valid_y = np.loadtxt(path+\"gisette_valid.labels\")\n",
    "    \n",
    "    test_x = np.loadtxt(path+\"gisette_test.data\")\n",
    "\n",
    "    return train_x, train_y, valid_x, valid_y, test_x\n",
    "\n",
    "\n",
    "def get_hill_valley():\n",
    "    path = \"data/hill-valley/\"   \n",
    "    \n",
    "    train_x = np.loadtxt(path+\"X.dat\")\n",
    "    train_y = np.loadtxt(path+\"Y.dat\")\n",
    "    \n",
    "    test_x = np.loadtxt(path+\"Xtest.dat\")\n",
    "    test_y = np.loadtxt(path+\"Ytest.dat\")\n",
    "    \n",
    "    return train_x, train_y, test_x, test_y\n",
    "\n",
    "\n",
    "def get_dexter():\n",
    "    path = \"data/dexter/\"\n",
    "\n",
    "    train_x = np.loadtxt(path+\"dexter_train.csv\", delimiter=',')\n",
    "    train_y = np.loadtxt(path+\"dexter_train.labels\")\n",
    "\n",
    "    valid_x = np.loadtxt(path+\"dexter_valid.csv\", delimiter=',')\n",
    "    valid_y = np.loadtxt(path+\"dexter_valid.labels\")\n",
    "\n",
    "    return train_x, train_y, valid_x, valid_y"
   ]
  },
  {
   "cell_type": "markdown",
   "metadata": {
    "pycharm": {
     "name": "#%% md\n"
    }
   },
   "source": [
    "#### Normalization function"
   ]
  },
  {
   "cell_type": "code",
   "execution_count": 3,
   "metadata": {
    "pycharm": {
     "name": "#%%\n"
    }
   },
   "outputs": [],
   "source": [
    "def normalize(train, *args):\n",
    "    print(train)\n",
    "    mean = np.average(train, axis=0)\n",
    "    standard_deviation = np.std(train, axis=0)\n",
    "    columns = train, *args\n",
    "    return tuple(np.divide(column-mean, standard_deviation, where=standard_deviation!=0)\n",
    "                 for column in columns)"
   ]
  },
  {
   "cell_type": "markdown",
   "metadata": {},
   "source": [
    "## Logistic regression\n",
    "Solved  Analytically"
   ]
  },
  {
   "cell_type": "code",
   "execution_count": 4,
   "metadata": {
    "pycharm": {
     "name": "#%%\n"
    }
   },
   "outputs": [],
   "source": [
    "def logistic_regression(x, train_y, test_x, test_y, learning_rate):\n",
    "    x = np.hstack((np.ones((x.shape[0], 1)), x))\n",
    "    test_x = np.hstack((np.ones((test_x.shape[0], 1)), test_x))\n",
    "    iterations = 300\n",
    "    lmb = 0.0001\n",
    "\n",
    "    w = np.zeros(x.shape[1])\n",
    "    scores = []\n",
    "    scores_test = []\n",
    "\n",
    "    predicted_y = np.round(predict(x, w))\n",
    "    scores.append(log_loss(train_y, predicted_y))\n",
    "    predicted_y = np.round(predict(test_x, w))\n",
    "    scores_test.append(log_loss(test_y, predicted_y))\n",
    "\n",
    "    for _ in range(iterations):\n",
    "        w = w - lmb * learning_rate * w - learning_rate / x.shape[0] * L(w, x, train_y)\n",
    "        predicted_y = np.round(predict(x, w))\n",
    "        scores.append(log_loss(train_y, predicted_y))\n",
    "        predicted_y = np.round(predict(test_x, w))\n",
    "        scores_test.append(log_loss(test_y, predicted_y))\n",
    "\n",
    "        predicted_y = np.round(predict(x, w))\n",
    "        error_train = 1 - accuracy_score(train_y, predicted_y)\n",
    "        predicted_y = np.round(predict(test_x, w))\n",
    "        error_test = 1 - accuracy_score(test_y, predicted_y)\n",
    "    print(\"Negative log-likelihood vs iteration\")\n",
    "    print(\"Blue: training, Orange: Testing\")\n",
    "    plt.plot(range(iterations + 1), scores)\n",
    "    plt.plot(range(iterations + 1), scores_test)\n",
    "    plt.table(cellText=[[error_train], [error_test]], rowLabels=['Training error', 'Test error'], bbox=[0.3,-0.6, .4,.3], edges=\"closed\" )\n",
    "    plt.show()\n",
    "\n",
    "    return scores_test[-1]\n",
    "\n",
    "\n",
    "def predict(x, w):\n",
    "    y = 1/(1 + np.exp(-(x.dot(w))))\n",
    "    return y\n",
    "\n",
    "\n",
    "def L(w, x, y):\n",
    "    '''\n",
    "    Gradient of negative logistic loss function, simplified in accordance with the following derivation.\n",
    "    source: https://stats.stackexchange.com/questions/261692/gradient-descent-for-logistic-regression-partial-derivative-doubt'''\n",
    "    return (predict(x, w) - y) @ x\n",
    "\n",
    "def find_learning_rate(train_x, train_y, test_x, test_y, rates_to_try):\n",
    "    \"\"\" Function for testing various learning rates\"\"\"\n",
    "    return [[rate, logistic_regression(train_x, train_y, test_x, test_y, rate)] for rate in rates_to_try]#logistic_regression(train_x, train_y, valid_x, valid_y)"
   ]
  },
  {
   "cell_type": "markdown",
   "metadata": {},
   "source": [
    "## 1(a) Gisette\n"
   ]
  },
  {
   "cell_type": "markdown",
   "metadata": {},
   "source": [
    "#### Load Data"
   ]
  },
  {
   "cell_type": "code",
   "execution_count": 5,
   "metadata": {
    "pycharm": {
     "is_executing": true,
     "name": "#%%\n"
    }
   },
   "outputs": [
    {
     "name": "stdout",
     "output_type": "stream",
     "text": [
      "[[550.   0. 495. ...   0.   0. 983.]\n",
      " [  0.   0.   0. ...   0.   0.   0.]\n",
      " [  0.   0.   0. ...   0.   0.   0.]\n",
      " ...\n",
      " [  0.   0.   0. ...   0.   0.   0.]\n",
      " [  0.   0.   0. ...   0.   0.   0.]\n",
      " [  0.   0. 991. ...   0.   0. 991.]]\n"
     ]
    }
   ],
   "source": [
    "train_x, train_y, valid_x, valid_y, test_x = get_gisette()\n",
    "train_x, valid_x, test_x = normalize(train_x, valid_x, test_x)\n",
    "train_y[train_y==-1] = 0\n",
    "valid_y[valid_y==-1] = 0"
   ]
  },
  {
   "cell_type": "markdown",
   "metadata": {},
   "source": [
    "#### Train logistic regression model"
   ]
  },
  {
   "cell_type": "code",
   "execution_count": 6,
   "metadata": {
    "pycharm": {
     "is_executing": true,
     "name": "#%%\n"
    }
   },
   "outputs": [
    {
     "name": "stdout",
     "output_type": "stream",
     "text": [
      "Negative log-likelihood vs iteration\n",
      "Blue: training, Orange: Testing\n"
     ]
    },
    {
     "data": {
      "image/png": "[encoded data removed]",
      "text/plain": [
       "<Figure size 432x288 with 1 Axes>"
      ]
     },
     "metadata": {
      "needs_background": "light"
     },
     "output_type": "display_data"
    },
    {
     "data": {
      "text/plain": [
       "0.6907835238725164"
      ]
     },
     "execution_count": 6,
     "metadata": {},
     "output_type": "execute_result"
    }
   ],
   "source": [
    "learning_rate = .01\n",
    "logistic_regression(train_x, train_y, valid_x, valid_y, learning_rate)\n",
    "#find_learning_rate(train_x, train_y, valid_x, valid_y, [.1, .05, .02, .01, .05, .01, .005, .001])"
   ]
  },
  {
   "cell_type": "markdown",
   "metadata": {},
   "source": [
    "## 1(b) Hill Valley"
   ]
  },
  {
   "cell_type": "markdown",
   "metadata": {
    "pycharm": {
     "name": "#%% md\n"
    }
   },
   "source": [
    "#### Load Data"
   ]
  },
  {
   "cell_type": "code",
   "execution_count": 7,
   "metadata": {
    "pycharm": {
     "is_executing": true,
     "name": "#%%\n"
    }
   },
   "outputs": [
    {
     "name": "stdout",
     "output_type": "stream",
     "text": [
      "[[3.902000e+01 3.649000e+01 3.820000e+01 ... 3.946000e+01 3.750000e+01\n",
      "  3.910000e+01]\n",
      " [1.830000e+00 1.710000e+00 1.770000e+00 ... 1.780000e+00 1.750000e+00\n",
      "  1.690000e+00]\n",
      " [6.817769e+04 6.613842e+04 7.298188e+04 ... 7.106372e+04 6.740427e+04\n",
      "  7.492024e+04]\n",
      " ...\n",
      " [5.310000e+00 5.030000e+00 5.170000e+00 ... 5.140000e+00 5.120000e+00\n",
      "  5.040000e+00]\n",
      " [1.030000e+00 1.020000e+00 1.090000e+00 ... 1.100000e+00 1.110000e+00\n",
      "  1.070000e+00]\n",
      " [6.177000e+01 5.863000e+01 6.306000e+01 ... 6.513000e+01 5.974000e+01\n",
      "  6.386000e+01]]\n"
     ]
    }
   ],
   "source": [
    "train_x, train_y, test_x, test_y = get_hill_valley()\n",
    "train_x, test_x = normalize(train_x, test_x)"
   ]
  },
  {
   "cell_type": "markdown",
   "metadata": {},
   "source": [
    "#### Train logistic regression model"
   ]
  },
  {
   "cell_type": "code",
   "execution_count": 8,
   "metadata": {
    "pycharm": {
     "is_executing": true,
     "name": "#%%\n"
    }
   },
   "outputs": [
    {
     "name": "stdout",
     "output_type": "stream",
     "text": [
      "Negative log-likelihood vs iteration\n",
      "Blue: training, Orange: Testing\n"
     ]
    },
    {
     "data": {
      "image/png": "[encoded data removed]",
      "text/plain": [
       "<Figure size 432x288 with 1 Axes>"
      ]
     },
     "metadata": {
      "needs_background": "light"
     },
     "output_type": "display_data"
    },
    {
     "data": {
      "text/plain": [
       "14.704642088215659"
      ]
     },
     "execution_count": 8,
     "metadata": {},
     "output_type": "execute_result"
    }
   ],
   "source": [
    "learning_rate = .05\n",
    "logistic_regression(train_x, train_y, test_x, test_y, learning_rate)\n",
    "#find_learning_rate(train_x, train_y, test_x, test_y, [.1, .05, .02, .01, .05, .01, .005, .001])"
   ]
  },
  {
   "cell_type": "markdown",
   "metadata": {
    "pycharm": {
     "name": "#%% md\n"
    }
   },
   "source": [
    "## 1(c) Dexter"
   ]
  },
  {
   "cell_type": "markdown",
   "metadata": {},
   "source": [
    "#### Load Data"
   ]
  },
  {
   "cell_type": "code",
   "execution_count": 9,
   "metadata": {
    "pycharm": {
     "is_executing": true,
     "name": "#%%\n"
    }
   },
   "outputs": [],
   "source": [
    "train_x, train_y, valid_x, valid_y = get_dexter()"
   ]
  },
  {
   "cell_type": "code",
   "execution_count": 10,
   "metadata": {
    "pycharm": {
     "is_executing": true,
     "name": "#%%\n"
    }
   },
   "outputs": [
    {
     "name": "stdout",
     "output_type": "stream",
     "text": [
      "[[ 0.  0.  0. ...  0.  0. 56.]\n",
      " [ 0.  0.  0. ...  0.  0.  0.]\n",
      " [ 0.  0.  0. ...  0.  0.  0.]\n",
      " ...\n",
      " [ 0.  0.  0. ...  0.  0.  0.]\n",
      " [ 0.  0.  0. ...  0.  0.  0.]\n",
      " [ 0.  0.  0. ...  0.  0.  0.]]\n"
     ]
    }
   ],
   "source": [
    "train_x, valid_x = normalize(train_x, valid_x)\n",
    "train_y[train_y==-1] = 0\n",
    "valid_y[valid_y==-1] = 0"
   ]
  },
  {
   "cell_type": "markdown",
   "metadata": {},
   "source": [
    "#### Train logistic regression model"
   ]
  },
  {
   "cell_type": "code",
   "execution_count": 11,
   "metadata": {
    "pycharm": {
     "is_executing": true,
     "name": "#%%\n"
    }
   },
   "outputs": [
    {
     "name": "stdout",
     "output_type": "stream",
     "text": [
      "Negative log-likelihood vs iteration\n",
      "Blue: training, Orange: Testing\n"
     ]
    },
    {
     "data": {
      "image/png": "[encoded data removed]",
      "text/plain": [
       "<Figure size 432x288 with 1 Axes>"
      ]
     },
     "metadata": {
      "needs_background": "light"
     },
     "output_type": "display_data"
    },
    {
     "data": {
      "text/plain": [
       "4.605242149756809"
      ]
     },
     "execution_count": 11,
     "metadata": {},
     "output_type": "execute_result"
    }
   ],
   "source": [
    "learning_rate = .001\n",
    "logistic_regression(train_x, train_y, valid_x, valid_y, learning_rate)"
   ]
  }
 ],
 "metadata": {
  "authors": [
   {
    "name": "Oscar Kosar-Kosarewicz"
   },
   {
    "name": "Nicholas Phillips"
   }
  ],
  "kernelspec": {
   "display_name": "Python 3",
   "language": "python",
   "name": "python3"
  },
  "language_info": {
   "codemirror_mode": {
    "name": "ipython",
    "version": 3
   },
   "file_extension": ".py",
   "mimetype": "text/x-python",
   "name": "python",
   "nbconvert_exporter": "python",
   "pygments_lexer": "ipython3",
   "version": "3.8.3"
  }
 },
 "nbformat": 4,
 "nbformat_minor": 4
}