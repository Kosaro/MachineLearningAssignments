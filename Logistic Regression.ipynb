{
 "cells": [
  {
   "cell_type": "markdown",
   "metadata": {
    "pycharm": {
     "name": "#%% md\n"
    }
   },
   "source": [
    "# Logistic Regression Assignment\n",
    "Implement the Logistic Regression learning by gradient ascent as described in class.\n",
    "Before using logistic regression, be sure to normalize the variables of the training set\n",
    "to have zero mean and standard deviation 1, and to do the exact same transformation to\n",
    "the test set, using the mean and standard deviation of the training set"
   ]
  },
  {
   "cell_type": "markdown",
   "source": [
    "#### Import dependencies"
   ],
   "metadata": {
    "collapsed": false
   }
  },
  {
   "cell_type": "code",
   "execution_count": 136,
   "outputs": [],
   "source": [
    "import numpy as np\n",
    "from scipy.sparse import csr_matrix\n",
    "import pandas as pd\n",
    "from sklearn.metrics import accuracy_score\n",
    "from matplotlib import pyplot as plt"
   ],
   "metadata": {
    "collapsed": false,
    "pycharm": {
     "name": "#%%\n"
    }
   }
  },
  {
   "cell_type": "markdown",
   "source": [
    "#### Load data"
   ],
   "metadata": {
    "collapsed": false
   }
  },
  {
   "cell_type": "code",
   "execution_count": 137,
   "outputs": [],
   "source": [
    "# TODO"
   ],
   "metadata": {
    "collapsed": false,
    "pycharm": {
     "name": "#%%\n"
    }
   }
  },
  {
   "cell_type": "markdown",
   "source": [
    "#### Utility functions"
   ],
   "metadata": {
    "collapsed": false
   }
  },
  {
   "cell_type": "code",
   "execution_count": 138,
   "outputs": [],
   "source": [
    "def get_gisette():\n",
    "    path = \"data/gisette/\"   \n",
    "    \n",
    "    train_x = np.loadtxt(path+\"gisette_train.data\")\n",
    "    train_y = np.loadtxt(path+\"gisette_train.labels\")\n",
    "    \n",
    "    valid_x = np.loadtxt(path+\"gisette_valid.data\")\n",
    "    valid_y = np.loadtxt(path+\"gisette_valid.labels\")\n",
    "    \n",
    "    test_x = np.loadtxt(path+\"gisette_test.data\")\n",
    "\n",
    "    return train_x, train_y, valid_x, valid_y, test_x\n",
    "\n",
    "\n",
    "def get_hill_valley():\n",
    "    path = \"data/hill-valley/\"   \n",
    "    \n",
    "    train_x = np.loadtxt(path+\"X.dat\")\n",
    "    train_y = np.loadtxt(path+\"Y.dat\")\n",
    "    \n",
    "    test_x = np.loadtxt(path+\"Xtest.dat\")\n",
    "    test_y = np.loadtxt(path+\"Ytest.dat\")\n",
    "    \n",
    "    return train_x, train_y, test_x, test_y\n",
    "\n",
    "\n",
    "def get_dexter():\n",
    "    path = \"data/dexter/\"   \n",
    "    \n",
    "    def parse_X(file_path):\n",
    "        def gen():\n",
    "            with open(file_path) as f:\n",
    "                for line in f:\n",
    "                    dict = {}\n",
    "                    for pair in line.split(\" \"):\n",
    "                        if \":\" in pair:\n",
    "                            key, value = pair.split(\":\")\n",
    "                            dict[key] = value\n",
    "                    yield dict\n",
    "        df = pd.DataFrame(gen())\n",
    "        df.fillna(0, inplace=True)\n",
    "        return csr_matrix(df.values.astype(\"int\"))\n",
    "    \n",
    "    train_x = parse_X(path+\"dexter_train.data\")\n",
    "    train_y = np.loadtxt(path+\"dexter_train.labels\")\n",
    "    \n",
    "    valid_x = parse_X(path+\"dexter_valid.data\")\n",
    "    valid_y = np.loadtxt(path+\"dexter_valid.labels\")\n",
    "    \n",
    "    test_x = parse_X(path+\"dexter_test.data\")\n",
    "    \n",
    "    return train_x, train_y, valid_x, valid_y, test_x"
   ],
   "metadata": {
    "collapsed": false,
    "pycharm": {
     "name": "#%%\n"
    }
   }
  },
  {
   "cell_type": "code",
   "execution_count": 139,
   "outputs": [],
   "source": [
    "def normalize(train, *args):\n",
    "    mean = np.average(train, axis=0)\n",
    "    standard_deviation = np.std(train, axis=0)\n",
    "    columns = train, *args\n",
    "    return tuple(np.divide(column-mean, standard_deviation, where=standard_deviation!=0)\n",
    "                 for column in columns)"
   ],
   "metadata": {
    "collapsed": false,
    "pycharm": {
     "name": "#%%\n"
    }
   }
  },
  {
   "cell_type": "code",
   "execution_count": 144,
   "outputs": [
    {
     "data": {
      "text/plain": "<Figure size 432x288 with 1 Axes>",
      "image/png": "[encoded data removed]"
     },
     "metadata": {
      "needs_background": "light"
     },
     "output_type": "display_data"
    }
   ],
   "source": [
    "def logistic_regression(x, train_y, test_x, test_y):\n",
    "    x = np.hstack((np.ones((x.shape[0], 1)), x))\n",
    "    test_x = np.hstack((np.ones((test_x.shape[0], 1)), test_x))\n",
    "    iterations = 300\n",
    "    lmb = 0.0001\n",
    "    learning_rate = .001\n",
    "\n",
    "    w = np.zeros(x.shape[1])\n",
    "    scores = []\n",
    "    scores_test = []\n",
    "\n",
    "    for _ in range(iterations):\n",
    "        y_hat = 1 / (1 + np.exp(-x.dot(w)))\n",
    "        w = w - lmb * learning_rate * w + learning_rate * (train_y - y_hat) * y_hat * (1 - y_hat) @ x\n",
    "        predicted_y = np.round(predict(x, w))\n",
    "        scores.append(1 - accuracy_score(train_y, predicted_y))\n",
    "        predicted_y = np.round(predict(test_x, w))\n",
    "        scores_test.append(1 - accuracy_score(test_y, predicted_y))\n",
    "    plt.plot(range(1,iterations + 1), scores)\n",
    "    plt.plot(range(1,iterations + 1), scores_test)\n",
    "    plt.show()\n",
    "\n",
    "def predict(x, w):\n",
    "    y = 1/(1 + np.exp(-(x.dot(w))))\n",
    "    return y\n",
    "\n",
    "logistic_regression(train_x, train_y, valid_x, valid_y)"
   ],
   "metadata": {
    "collapsed": false,
    "pycharm": {
     "name": "#%%\n"
    }
   }
  },
  {
   "cell_type": "markdown",
   "source": [
    "## Gisette"
   ],
   "metadata": {
    "collapsed": false
   }
  },
  {
   "cell_type": "code",
   "execution_count": 141,
   "outputs": [],
   "source": [
    "train_x, train_y, valid_x, valid_y, test_x = get_gisette()\n",
    "train_x, valid_x, test_x = normalize(train_x, valid_x, test_x)\n",
    "train_y[train_y==-1] = 0\n",
    "valid_y[valid_y==-1] = 0"
   ],
   "metadata": {
    "collapsed": false,
    "pycharm": {
     "name": "#%%\n"
    }
   }
  },
  {
   "cell_type": "code",
   "execution_count": 142,
   "outputs": [
    {
     "data": {
      "text/plain": "<Figure size 432x288 with 1 Axes>",
      "image/png": "[encoded data removed]"
     },
     "metadata": {
      "needs_background": "light"
     },
     "output_type": "display_data"
    }
   ],
   "source": [
    "logistic_regression(train_x, train_y, valid_x, valid_y)\n"
   ],
   "metadata": {
    "collapsed": false,
    "pycharm": {
     "name": "#%%\n"
    }
   }
  }
 ],
 "metadata": {
  "authors": [
   {
    "name": "Oscar Kosar-Kosarewicz"
   },
   {
    "name": "Nicholas Phillips"
   }
  ],
  "kernelspec": {
   "display_name": "Python 3",
   "language": "python",
   "name": "python3"
  },
  "language_info": {
   "codemirror_mode": {
    "name": "ipython",
    "version": 3
   },
   "file_extension": ".py",
   "mimetype": "text/x-python",
   "name": "python",
   "nbconvert_exporter": "python",
   "pygments_lexer": "ipython3",
   "version": "3.8.3"
  }
 },
 "nbformat": 4,
 "nbformat_minor": 4
}